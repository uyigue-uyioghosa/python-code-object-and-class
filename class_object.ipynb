{
  "nbformat": 4,
  "nbformat_minor": 0,
  "metadata": {
    "colab": {
      "name": "class object",
      "provenance": [],
      "collapsed_sections": []
    },
    "kernelspec": {
      "name": "python3",
      "display_name": "Python 3"
    },
    "language_info": {
      "name": "python"
    }
  },
  "cells": [
    {
      "cell_type": "code",
      "execution_count": 3,
      "metadata": {
        "colab": {
          "base_uri": "https://localhost:8080/"
        },
        "id": "7jBk_-MhFG2U",
        "outputId": "71a7eee6-658b-4d70-9c77-f889475bfaf8"
      },
      "outputs": [
        {
          "output_type": "stream",
          "name": "stdout",
          "text": [
            "your name: uyi\n",
            "your age: 88\n",
            "FE/BE: be\n",
            "PETER\n",
            "34\n",
            "ui/ux\n",
            "24\n"
          ]
        }
      ],
      "source": [
        "class student:\n",
        "  pass\n",
        "student1=student()\n",
        "name=input(str(\"your name: \"))\n",
        "age=int(input(\"your age: \"))\n",
        "tracks=input(\"FE/BE: \")\n",
        "score=float(98.5)\n",
        "def __init__(self, change_name ,change_age, add_track, get_score):\n",
        "  self.change_name=change_name\n",
        "  self.change_age=change_age\n",
        "  self.add_track=add_track\n",
        "  self.get_score\n",
        "\n",
        "change_name=(\"PETER\")\n",
        "change_age=int(34)\n",
        "add_track=(\"ui/ux\")\n",
        "get_score=24\n",
        "print(change_name)\n",
        "print(change_age)\n",
        "print(add_track)\n",
        "print(get_score)\n"
      ]
    }
  ]
}